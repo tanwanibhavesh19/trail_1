{
  "nbformat": 4,
  "nbformat_minor": 0,
  "metadata": {
    "colab": {
      "provenance": []
    },
    "kernelspec": {
      "name": "python3",
      "display_name": "Python 3"
    },
    "language_info": {
      "name": "python"
    }
  },
  "cells": [
    {
      "cell_type": "markdown",
      "source": [
        "#Trail\n",
        "1.What is your Name ?\n",
        "  - Bhavesh Tanwani"
      ],
      "metadata": {
        "id": "HjjDW2P-8mbp"
      }
    },
    {
      "cell_type": "code",
      "execution_count": null,
      "metadata": {
        "id": "811SQdTk8lgx"
      },
      "outputs": [],
      "source": []
    }
  ]
}